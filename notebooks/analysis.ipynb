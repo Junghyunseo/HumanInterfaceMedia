{
 "cells": [
  {
   "cell_type": "code",
   "execution_count": null,
   "metadata": {
    "vscode": {
     "languageId": "plaintext"
    }
   },
   "outputs": [],
   "source": [
    "{\n",
    " \"cells\": [\n",
    "  {\n",
    "   \"cell_type\": \"markdown\",\n",
    "   \"metadata\": {},\n",
    "   \"source\": [\n",
    "    \"# Memory Game Analysis\"\n",
    "   ]\n",
    "  },\n",
    "  {\n",
    "   \"cell_type\": \"code\",\n",
    "   \"execution_count\": null,\n",
    "   \"metadata\": {},\n",
    "   \"source\": [\n",
    "    \"from src.data_loader import DataLoader\\n\",\n",
    "    \"from src.data_analyzer import DataAnalyzer\\n\",\n",
    "    \"from src.visualizer import Visualizer\\n\",\n",
    "    \"\\n\",\n",
    "    \"# 데이터 로드\\n\",\n",
    "    \"loader = DataLoader('data/휴인미 game result 복사본.xlsx')\\n\",\n",
    "    \"data = loader.load_data()\\n\",\n",
    "    \"processed_data = loader.preprocess_data()\\n\",\n",
    "    \"\\n\",\n",
    "    \"# 분석\\n\",\n",
    "    \"analyzer = DataAnalyzer(processed_data)\\n\",\n",
    "    \"error_rates = analyzer.calculate_error_rates()\\n\",\n",
    "    \"\\n\",\n",
    "    \"# 시각화\\n\",\n",
    "    \"visualizer = Visualizer(processed_data, error_rates)\\n\",\n",
    "    \"visualizer.create_sigmoid_plot()\\n\",\n",
    "    \"visualizer.create_boxplot()\"\n",
    "   ]\n",
    "  }\n",
    " ]\n",
    "}"
   ]
  }
 ],
 "metadata": {
  "language_info": {
   "name": "python"
  }
 },
 "nbformat": 4,
 "nbformat_minor": 2
}
